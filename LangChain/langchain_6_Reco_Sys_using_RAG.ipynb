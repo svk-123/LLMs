{
 "cells": [
  {
   "cell_type": "code",
   "execution_count": 1,
   "id": "5a62ac15-3ddc-4f18-9724-89a94eac26cd",
   "metadata": {},
   "outputs": [],
   "source": [
    "#Ref: Langchain in your pocket, Mehul Gupta\n",
    "from langchain.chains import RetrievalQA\n",
    "from langchain.document_loaders import TextLoader\n",
    "from langchain.embeddings.openai import OpenAIEmbeddings\n",
    "from langchain.llms import OpenAI\n",
    "from langchain.text_splitter import CharacterTextSplitter\n",
    "from langchain.vectorstores import Chroma\n",
    "from langchain.document_loaders.csv_loader import CSVLoader\n",
    "import numpy as np\n",
    "import pandas as pd"
   ]
  },
  {
   "cell_type": "code",
   "execution_count": 2,
   "id": "b22b6d05-0d32-4d2d-bd85-f2e7e8d46ce2",
   "metadata": {},
   "outputs": [],
   "source": [
    "import sys\n",
    "import os\n",
    "sys.path.append('/home/vino/api_keys')\n",
    "from api_key import OPENAI_API_KEY, OWM_API_KEY\n",
    "os.environ['OPENAI_API_KEY'] = OPENAI_API_KEY"
   ]
  },
  {
   "cell_type": "code",
   "execution_count": 3,
   "id": "c475ccb5-c0c9-424f-9c3b-31994fd7eb12",
   "metadata": {},
   "outputs": [],
   "source": [
    "#### Recommendation System using RAG"
   ]
  },
  {
   "cell_type": "code",
   "execution_count": 4,
   "id": "b72311d5-d476-414d-a230-d5f1397f810f",
   "metadata": {},
   "outputs": [],
   "source": [
    "# Define the number of users and unique items\n",
    "num_users = 1000\n",
    "num_items = 20\n",
    "\n",
    "# Generate random user IDs and item IDs\n",
    "user_ids = np.arange(1, num_users + 1)\n",
    "item_ids = np.arange(1, num_items + 1)"
   ]
  },
  {
   "cell_type": "code",
   "execution_count": 5,
   "id": "eda9dc00-8041-4d3f-8763-24541146638e",
   "metadata": {},
   "outputs": [
    {
     "name": "stdout",
     "output_type": "stream",
     "text": [
      "   user_id  item_id\n",
      "0      451       18\n",
      "1      562        6\n",
      "2      719       11\n",
      "3      961       13\n",
      "4      334       17\n"
     ]
    }
   ],
   "source": [
    "# Create random interaction data\n",
    "data = {\n",
    "'user_id': np.random.choice(user_ids, size=num_users * 10),\n",
    "'item_id': np.random.choice(item_ids, size=num_users * 10),\n",
    "}\n",
    "\n",
    "# Create a pandas DataFrame from the data\n",
    "df = pd.DataFrame(data).drop_duplicates()\n",
    "\n",
    "# Display the first few rows of the generated data\n",
    "print(df.head())"
   ]
  },
  {
   "cell_type": "code",
   "execution_count": 6,
   "id": "bbcb73c5-785d-4e4f-bd41-f5b109f747ee",
   "metadata": {},
   "outputs": [],
   "source": [
    "df = df.groupby(['user_id'])['item_id'].agg(list).reset_index() \n",
    "df['item_id'] = df['item_id'].transform(lambda x: [0 if y+1 not in x else y+1 for y in range(20)])\n",
    "df.to_csv('./data/recommendation.csv',index=False)\n",
    "\n",
    "loader = CSVLoader(file_path=\"./data/recommendation.csv\")\n",
    "data = loader.load()"
   ]
  },
  {
   "cell_type": "code",
   "execution_count": 7,
   "id": "9d6bdd2a-b4c2-4002-8b24-db171d66bdeb",
   "metadata": {},
   "outputs": [],
   "source": [
    "text_splitter=CharacterTextSplitter(chunk_size=200,chunk_overlap=0)\n",
    "texts = text_splitter.split_documents(data)\n",
    "embeddings = OpenAIEmbeddings()\n",
    "llm=OpenAI(model_name=\"gpt-3.5-turbo-instruct\",temperature=0)\n",
    "docsearch = Chroma.from_documents(texts, embeddings)"
   ]
  },
  {
   "cell_type": "code",
   "execution_count": 8,
   "id": "a2d9d465-c1d4-4d57-bef7-561c7fc967e2",
   "metadata": {},
   "outputs": [],
   "source": [
    "qa=RetrievalQA.from_chain_type(llm=llm,chain_type=\"stuff\",retriever= docsearch.as_retriever())"
   ]
  },
  {
   "cell_type": "code",
   "execution_count": 9,
   "id": "02144b9b-42fb-44d6-9b03-cc2ca4449c8b",
   "metadata": {},
   "outputs": [
    {
     "data": {
      "text/plain": [
       "'\\n1. User 878 has a similar item history to user 78, with both users having viewed items 0, 2, 3, and 19. Therefore, it would be beneficial for user 78 to check out the items that user 878 has viewed that they have not, such as items 4, 8, 11, and 12. This could potentially introduce user 78 to new articles that they may be interested in.\\n\\n2. User 93 has also viewed item 2, which is the most viewed item for user 78. Therefore, it would be beneficial for user 78 to check out the items that user 93 has viewed that they have not, such as items 7, 12, and 15. This could potentially introduce user 78 to new articles that they may be interested in, based on their interest in item 2.'"
      ]
     },
     "execution_count": 9,
     "metadata": {},
     "output_type": "execute_result"
    }
   ],
   "source": [
    "qa.run('Suggest 2 articles to user-id 78 using given data which it has not seen.\\\n",
    "Follow this approach 1: Find similar Users and 2: suggest new articles from similar users.\\\n",
    "Also give a reason for suggestion')"
   ]
  },
  {
   "cell_type": "code",
   "execution_count": 10,
   "id": "988f1023-5ca8-4519-9f60-5f3667a87abd",
   "metadata": {},
   "outputs": [],
   "source": [
    "#### Vector dB"
   ]
  },
  {
   "cell_type": "code",
   "execution_count": 11,
   "id": "e5349da2-8e03-48ce-b216-c4a9a31e2385",
   "metadata": {},
   "outputs": [],
   "source": [
    "import chromadb\n",
    "from chromadb.utils import embedding_functions"
   ]
  },
  {
   "cell_type": "code",
   "execution_count": 14,
   "id": "3b734ffa-f178-4a9b-a571-823c3c63ffe7",
   "metadata": {},
   "outputs": [],
   "source": [
    "chroma_client = chromadb.Client()\n",
    "#creating embedding function\n",
    "st=embedding_functions.SentenceTransformerEmbeddingFunction(model_name= \"all-MiniLM-L6-v2\")\n",
    "#creating a new collection\n",
    "collection = chroma_client.create_collection(name=\"test\")"
   ]
  },
  {
   "cell_type": "code",
   "execution_count": 15,
   "id": "f59ae46a-7994-4934-9659-484b71a4d86f",
   "metadata": {},
   "outputs": [],
   "source": [
    "#loading the text file and segmenting\n",
    "with open('./data/dummy_data2.txt', 'r') as file: data = file.read().replace('\\n','.').split('.')\n",
    "#adding sentences to collection\n",
    "collection.add(\n",
    "  documents = data,\n",
    "  embeddings = st(data),\n",
    "  ids = ['id'+str(x) for x in range(len(data))]\n",
    ")"
   ]
  },
  {
   "cell_type": "code",
   "execution_count": 16,
   "id": "619b1c2b-c59f-4ad1-b4d5-dee9bc6a3c62",
   "metadata": {},
   "outputs": [],
   "source": [
    "#Querying the collection and retrieving 5 top results\n",
    "\n",
    "results = collection.query(\n",
    "    query_texts=[\"who is vinothkumar\"],\n",
    "    n_results=5\n",
    "\n",
    ")"
   ]
  },
  {
   "cell_type": "code",
   "execution_count": 18,
   "id": "40301eec-5b70-44c6-989b-79661ab89c67",
   "metadata": {},
   "outputs": [],
   "source": [
    "#results"
   ]
  }
 ],
 "metadata": {
  "kernelspec": {
   "display_name": "Python 3 (ipykernel)",
   "language": "python",
   "name": "python3"
  },
  "language_info": {
   "codemirror_mode": {
    "name": "ipython",
    "version": 3
   },
   "file_extension": ".py",
   "mimetype": "text/x-python",
   "name": "python",
   "nbconvert_exporter": "python",
   "pygments_lexer": "ipython3",
   "version": "3.11.10"
  }
 },
 "nbformat": 4,
 "nbformat_minor": 5
}
