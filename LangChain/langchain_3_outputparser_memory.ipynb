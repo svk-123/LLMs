{
 "cells": [
  {
   "cell_type": "code",
   "execution_count": 9,
   "id": "297cbe6e-0b56-4d2e-b7c1-b8c74bd20b36",
   "metadata": {},
   "outputs": [],
   "source": [
    "#Ref: Langchain in your pocket, Mehul Gupta\n",
    "import sys\n",
    "import os\n",
    "sys.path.append('/home/vino/api_keys')\n",
    "from api_key import OPENAI_API_KEY, OWM_API_KEY\n",
    "os.environ['OPENAI_API_KEY'] = OPENAI_API_KEY\n",
    "\n",
    "import warnings\n",
    "warnings.filterwarnings('ignore')"
   ]
  },
  {
   "cell_type": "code",
   "execution_count": 10,
   "id": "1f46fa3f-0b88-4956-a853-23cfcc112acb",
   "metadata": {},
   "outputs": [],
   "source": [
    "### Ex: CommaSeparatedListOutputParser\n",
    "from langchain.output_parsers import CommaSeparatedListOutputParser\n",
    "from langchain.prompts import PromptTemplate\n",
    "from langchain.llms import OpenAI"
   ]
  },
  {
   "cell_type": "code",
   "execution_count": 11,
   "id": "a8321883-439b-4dc8-9a61-caae53bb7b18",
   "metadata": {},
   "outputs": [],
   "source": [
    "output_parser = CommaSeparatedListOutputParser()\n",
    "format_instructions = output_parser.get_format_instructions()"
   ]
  },
  {
   "cell_type": "code",
   "execution_count": 12,
   "id": "4d92ab23-9fa7-4f8b-bcf2-e30864d14d30",
   "metadata": {},
   "outputs": [
    {
     "data": {
      "text/plain": [
       "['1. SwiftTech\\n2. MobileMinds\\n3. PocketPal\\n4. OnTheGoTech\\n5. AppHive\\n6. MobileGenius\\n7. PocketTech\\n8. MobileMate\\n9. QuickLink\\n10. PocketRocket\\n11. MobileSphere\\n12. AppSavvy\\n13. PocketPro\\n14. MobileWave\\n15. AppWorks\\n16. PocketTechie\\n17. MobileBoost\\n18. AppSprint\\n19. PocketGenie\\n20. MobileFusion']"
      ]
     },
     "execution_count": 12,
     "metadata": {},
     "output_type": "execute_result"
    }
   ],
   "source": [
    "prompt=PromptTemplate(template=\"Suggest some names for my {subject} startup.\\n {format_instructions}\",\n",
    "\n",
    "    input_variables=[\"subject\"],\n",
    "    partial_variables={\"format_instructions\": format_instructions}\n",
    "\n",
    ")\n",
    "\n",
    "model = OpenAI(model_name=\"gpt-3.5-turbo-instruct\",temperature=0)\n",
    "_input = prompt.format(subject=\"Mobile\")\n",
    "output = model(_input)\n",
    "output_parser.parse(output)"
   ]
  },
  {
   "cell_type": "code",
   "execution_count": 15,
   "id": "b22cb169-d2fb-4bc2-a5a2-064614d02175",
   "metadata": {},
   "outputs": [
    {
     "name": "stdout",
     "output_type": "stream",
     "text": [
      "\n",
      "\n",
      "\u001b[1m> Entering new LLMChain chain...\u001b[0m\n",
      "Prompt after formatting:\n",
      "\u001b[32;1m\u001b[1;3mYou are a chatbot having a conversation with a human.\n",
      "\n",
      "Human: Hi there my friend\n",
      "Chatbot:\u001b[0m\n",
      "\n",
      "\u001b[1m> Finished chain.\u001b[0m\n"
     ]
    },
    {
     "data": {
      "text/plain": [
       "' Hello! How are you doing today?'"
      ]
     },
     "execution_count": 15,
     "metadata": {},
     "output_type": "execute_result"
    }
   ],
   "source": [
    "### Ex: ConversationalMemeory\n",
    "from langchain.chains import LLMChain\n",
    "from langchain.llms import OpenAI\n",
    "from langchain.memory import ConversationBufferMemory \n",
    "from langchain.prompts import PromptTemplate \n",
    "import os\n",
    "\n",
    "template=\"\"\"You are a chatbot having a conversation with a human.\n",
    "{chat_history}\n",
    "Human: {human_input}\n",
    "Chatbot:\"\"\"\n",
    "\n",
    "prompt = PromptTemplate(\n",
    "    input_variables=[\"chat_history\", \"human_input\"], template=template )\n",
    "memory = ConversationBufferMemory(memory_key=\"chat_history\")\n",
    "\n",
    "llm = OpenAI(model_name=\"gpt-3.5-turbo-instruct\",temperature=0)\n",
    "\n",
    "llm_chain = LLMChain(\n",
    "    llm=llm,\n",
    "    prompt=prompt,\n",
    "    verbose=True,\n",
    "    memory=memory,\n",
    ")\n",
    "\n",
    "llm_chain.predict(human_input=\"Hi there my friend\")"
   ]
  },
  {
   "cell_type": "code",
   "execution_count": 16,
   "id": "511ad411-e230-4f97-8fd4-fd4898036739",
   "metadata": {},
   "outputs": [
    {
     "name": "stdout",
     "output_type": "stream",
     "text": [
      "\n",
      "\n",
      "\u001b[1m> Entering new LLMChain chain...\u001b[0m\n",
      "Prompt after formatting:\n",
      "\u001b[32;1m\u001b[1;3mYou are a chatbot having a conversation with a human.\n",
      "Human: Hi there my friend\n",
      "AI:  Hello! How are you doing today?\n",
      "Human: Tell me what is Machine Learning?\n",
      "Chatbot:\u001b[0m\n",
      "\n",
      "\u001b[1m> Finished chain.\u001b[0m\n"
     ]
    },
    {
     "data": {
      "text/plain": [
       "' Machine Learning is a branch of artificial intelligence that focuses on developing algorithms and statistical models that allow computers to learn and make predictions or decisions without being explicitly programmed to do so. It involves training a computer system with large amounts of data and allowing it to improve its performance over time through experience. It has various applications in fields such as data analysis, natural language processing, and computer vision.'"
      ]
     },
     "execution_count": 16,
     "metadata": {},
     "output_type": "execute_result"
    }
   ],
   "source": [
    "llm_chain.predict(human_input=\"Tell me what is Machine Learning?\")"
   ]
  },
  {
   "cell_type": "code",
   "execution_count": 17,
   "id": "8de28b70-b1fb-4368-af37-302d98ae37a5",
   "metadata": {},
   "outputs": [
    {
     "name": "stdout",
     "output_type": "stream",
     "text": [
      "\n",
      "\n",
      "\u001b[1m> Entering new LLMChain chain...\u001b[0m\n",
      "Prompt after formatting:\n",
      "\u001b[32;1m\u001b[1;3mYou are a chatbot having a conversation with a human.\n",
      "Human: Hi there my friend\n",
      "AI:  Hello! How are you doing today?\n",
      "Human: Tell me what is Machine Learning?\n",
      "AI:  Machine Learning is a branch of artificial intelligence that focuses on developing algorithms and statistical models that allow computers to learn and make predictions or decisions without being explicitly programmed to do so. It involves training a computer system with large amounts of data and allowing it to improve its performance over time through experience. It has various applications in fields such as data analysis, natural language processing, and computer vision.\n",
      "Human: Anything else you wish to add?\n",
      "Chatbot:\u001b[0m\n",
      "\n",
      "\u001b[1m> Finished chain.\u001b[0m\n"
     ]
    },
    {
     "data": {
      "text/plain": [
       "' Yes, Machine Learning has become increasingly popular in recent years due to the advancements in technology and the availability of large amounts of data. It has the potential to revolutionize many industries and improve our daily lives in various ways. However, it also raises ethical concerns and the need for responsible development and use of these technologies.'"
      ]
     },
     "execution_count": 17,
     "metadata": {},
     "output_type": "execute_result"
    }
   ],
   "source": [
    "llm_chain.predict(human_input=\"Anything else you wish to add?\")"
   ]
  },
  {
   "cell_type": "code",
   "execution_count": 18,
   "id": "d6471c80-997e-44c6-ae36-45449e8878f6",
   "metadata": {},
   "outputs": [
    {
     "data": {
      "text/plain": [
       "{'chat_history': 'Human: Hi there my friend\\nAI:  Hello! How are you doing today?\\nHuman: Tell me what is Machine Learning?\\nAI:  Machine Learning is a branch of artificial intelligence that focuses on developing algorithms and statistical models that allow computers to learn and make predictions or decisions without being explicitly programmed to do so. It involves training a computer system with large amounts of data and allowing it to improve its performance over time through experience. It has various applications in fields such as data analysis, natural language processing, and computer vision.\\nHuman: Anything else you wish to add?\\nAI:  Yes, Machine Learning has become increasingly popular in recent years due to the advancements in technology and the availability of large amounts of data. It has the potential to revolutionize many industries and improve our daily lives in various ways. However, it also raises ethical concerns and the need for responsible development and use of these technologies.'}"
      ]
     },
     "execution_count": 18,
     "metadata": {},
     "output_type": "execute_result"
    }
   ],
   "source": [
    "memory.load_memory_variables({})"
   ]
  },
  {
   "cell_type": "code",
   "execution_count": 19,
   "id": "299041a1-dd24-49f8-b809-b1fed19ebf5e",
   "metadata": {},
   "outputs": [],
   "source": [
    "### also check ConversationSummaryMemory"
   ]
  }
 ],
 "metadata": {
  "kernelspec": {
   "display_name": "Python 3 (ipykernel)",
   "language": "python",
   "name": "python3"
  },
  "language_info": {
   "codemirror_mode": {
    "name": "ipython",
    "version": 3
   },
   "file_extension": ".py",
   "mimetype": "text/x-python",
   "name": "python",
   "nbconvert_exporter": "python",
   "pygments_lexer": "ipython3",
   "version": "3.11.10"
  }
 },
 "nbformat": 4,
 "nbformat_minor": 5
}
