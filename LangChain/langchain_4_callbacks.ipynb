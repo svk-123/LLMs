{
 "cells": [
  {
   "cell_type": "code",
   "execution_count": 1,
   "id": "241a4305-ed42-4a55-9d74-d52df52ef8f9",
   "metadata": {},
   "outputs": [],
   "source": [
    "#Ref: Langchain in your pocket, Mehul Gupta\n",
    "### !pip install pyowm langchain-experimental==0.0.46 langchain==0.0.349\n",
    "import sys\n",
    "import os\n",
    "sys.path.append('/home/vino/api_keys')\n",
    "from api_key import OPENAI_API_KEY, OWM_API_KEY\n",
    "os.environ['OPENAI_API_KEY'] = OPENAI_API_KEY\n",
    "\n",
    "import warnings\n",
    "warnings.filterwarnings('ignore')"
   ]
  },
  {
   "cell_type": "code",
   "execution_count": 2,
   "id": "23203ffa-a92d-46e3-93e7-e191de754b90",
   "metadata": {},
   "outputs": [],
   "source": [
    "#callback handler\n",
    "from langchain.callbacks import StdOutCallbackHandler\n",
    "from langchain.chains import LLMChain\n",
    "from langchain.llms import OpenAI\n",
    "from langchain.prompts import PromptTemplate"
   ]
  },
  {
   "cell_type": "code",
   "execution_count": 3,
   "id": "52a4666d-98ac-4073-9d27-3fe3b1a0bb5a",
   "metadata": {},
   "outputs": [
    {
     "name": "stdout",
     "output_type": "stream",
     "text": [
      "\n",
      "\n",
      "\u001b[1m> Entering new LLMChain chain...\u001b[0m\n",
      "Prompt after formatting:\n",
      "\u001b[32;1m\u001b[1;3mWhat is the capital of South Africa?\u001b[0m\n",
      "\n",
      "\u001b[1m> Finished chain.\u001b[0m\n"
     ]
    },
    {
     "data": {
      "text/plain": [
       "'\\n\\nThe capital of South Africa is Pretoria.'"
      ]
     },
     "execution_count": 3,
     "metadata": {},
     "output_type": "execute_result"
    }
   ],
   "source": [
    "handler = StdOutCallbackHandler()\n",
    "llm = OpenAI(model_name=\"gpt-3.5-turbo-instruct\",temperature=0)\n",
    "prompt = PromptTemplate.from_template(\"What is the capital of {country}?\")\n",
    "chain = LLMChain(llm=llm, prompt=prompt)\n",
    "chain.run(country='South Africa',callbacks=[handler])"
   ]
  },
  {
   "cell_type": "code",
   "execution_count": 5,
   "id": "f7f4d8ef-6419-45ba-a8c6-c1c8cc381ed5",
   "metadata": {},
   "outputs": [
    {
     "data": {
      "text/plain": [
       "'\\n\\nThe capital of South Africa is Pretoria.'"
      ]
     },
     "execution_count": 5,
     "metadata": {},
     "output_type": "execute_result"
    }
   ],
   "source": [
    "#without callback handler\n",
    "chain.run(country='South Africa')"
   ]
  },
  {
   "cell_type": "code",
   "execution_count": 6,
   "id": "21638027-e102-4eb5-b631-4f574abcf606",
   "metadata": {},
   "outputs": [],
   "source": [
    "#logger\n",
    "from langchain.callbacks import FileCallbackHandler\n",
    "from langchain.chains import LLMChain\n",
    "from langchain.llms import OpenAI\n",
    "from langchain.prompts import PromptTemplate\n",
    "from loguru import logger"
   ]
  },
  {
   "cell_type": "code",
   "execution_count": 7,
   "id": "f4c1f198-6b79-4260-bdd1-555d46e23e3e",
   "metadata": {},
   "outputs": [
    {
     "name": "stderr",
     "output_type": "stream",
     "text": [
      "\u001b[32m2024-10-15 16:57:24.070\u001b[0m | \u001b[1mINFO    \u001b[0m | \u001b[36m__main__\u001b[0m:\u001b[36m<module>\u001b[0m:\u001b[36m8\u001b[0m - \u001b[1m\n",
      "\n",
      "The capital of Argentina is Buenos Aires.\u001b[0m\n"
     ]
    }
   ],
   "source": [
    "logfile = \"output.log\"\n",
    "logger.add(logfile, colorize=True, enqueue=True)\n",
    "handler = FileCallbackHandler(logfile)\n",
    "llm = OpenAI(model_name=\"gpt-3.5-turbo-instruct\",temperature=0)\n",
    "prompt=PromptTemplate.from_template(\"What is the capital of {country}? \")\n",
    "chain = LLMChain(llm=llm, prompt=prompt, callbacks=[handler])\n",
    "answer = chain.run(country='Argentina')\n",
    "logger.info(answer)"
   ]
  },
  {
   "cell_type": "code",
   "execution_count": 10,
   "id": "f8c4b4af-ef45-4b8e-9b62-c897e1f8023d",
   "metadata": {},
   "outputs": [
    {
     "name": "stdout",
     "output_type": "stream",
     "text": [
      "We are starting of with this prompt --> ['What is the capital of South Africa?']\n",
      "The LLM is done generations=[[Generation(text='\\n\\nThe capital of South Africa is Pretoria.', generation_info={'finish_reason': 'stop', 'logprobs': None})]] llm_output={'token_usage': {'prompt_tokens': 8, 'total_tokens': 18, 'completion_tokens': 10}, 'model_name': 'gpt-3.5-turbo-instruct'} run=None\n"
     ]
    },
    {
     "data": {
      "text/plain": [
       "'\\n\\nThe capital of South Africa is Pretoria.'"
      ]
     },
     "execution_count": 10,
     "metadata": {},
     "output_type": "execute_result"
    }
   ],
   "source": [
    "#custom callback\n",
    "from langchain.callbacks.base import BaseCallbackHandler\n",
    "\n",
    "class MyHandler(BaseCallbackHandler):\n",
    "\n",
    "    \"\"\"Base callback handler that can be used to handle callbacks from langchain.\"\"\"\n",
    "\n",
    "\n",
    "    def on_llm_start(self,serialized:'Dict[str, Any]',prompts: 'List[str]', *, run_id:'UUID',parent_run_id:'Optional[UUID]'= None, tags: 'Optional[List[str]]' = None, metadata: 'Optional[Dict[str, Any]]' = None, **kwargs: 'Any'): \n",
    "        print('We are starting of with this prompt -->',prompts)\n",
    " \n",
    "    def on_llm_end(self,response:'LLMResult', *, run_id: 'UUID', parent_run_id: 'Optional[UUID]' = None, **kwargs: 'Any'): \n",
    "        print('The LLM is done',response)\n",
    "\n",
    "handler = MyHandler()\n",
    "llm = OpenAI(model_name=\"gpt-3.5-turbo-instruct\",temperature=0)\n",
    "prompt = PromptTemplate.from_template(\"What is the capital of {country}?\")\n",
    "\n",
    "chain = LLMChain(llm=llm, prompt=prompt)\n",
    "chain.run(country='South Africa',callbacks=[handler])"
   ]
  },
  {
   "cell_type": "code",
   "execution_count": null,
   "id": "e86fccd5-0a2e-4c65-905f-92a49ec09296",
   "metadata": {},
   "outputs": [],
   "source": []
  }
 ],
 "metadata": {
  "kernelspec": {
   "display_name": "Python 3 (ipykernel)",
   "language": "python",
   "name": "python3"
  },
  "language_info": {
   "codemirror_mode": {
    "name": "ipython",
    "version": 3
   },
   "file_extension": ".py",
   "mimetype": "text/x-python",
   "name": "python",
   "nbconvert_exporter": "python",
   "pygments_lexer": "ipython3",
   "version": "3.11.10"
  }
 },
 "nbformat": 4,
 "nbformat_minor": 5
}
