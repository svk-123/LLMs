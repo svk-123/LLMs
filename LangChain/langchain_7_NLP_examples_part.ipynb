{
 "cells": [
  {
   "cell_type": "code",
   "execution_count": 1,
   "id": "3417b0e0-8044-485e-896d-948fcff4147e",
   "metadata": {},
   "outputs": [],
   "source": [
    "#Ref: Langchain in your pocket, Mehul Gupta\n",
    "import sys\n",
    "import os\n",
    "sys.path.append('/home/vino/api_keys')\n",
    "from api_key import OPENAI_API_KEY, OWM_API_KEY\n",
    "os.environ['OPENAI_API_KEY'] = OPENAI_API_KEY\n",
    "\n",
    "import warnings\n",
    "warnings.filterwarnings('ignore')"
   ]
  },
  {
   "cell_type": "code",
   "execution_count": 2,
   "id": "eb907ee7-a932-4476-936d-5a6d750fc9ad",
   "metadata": {},
   "outputs": [],
   "source": [
    "#### Summarization"
   ]
  },
  {
   "cell_type": "code",
   "execution_count": 3,
   "id": "e993b622-4c82-4c2e-badb-552b21aaf538",
   "metadata": {},
   "outputs": [],
   "source": [
    "from langchain.chat_models import ChatOpenAI\n",
    "from langchain.document_loaders import WebBaseLoader\n",
    "from langchain.chains.summarize import load_summarize_chain"
   ]
  },
  {
   "cell_type": "code",
   "execution_count": 4,
   "id": "6ae59408-3b81-4e9b-b665-8ac5180396c6",
   "metadata": {},
   "outputs": [],
   "source": [
    "llm=ChatOpenAI()"
   ]
  },
  {
   "cell_type": "code",
   "execution_count": 5,
   "id": "8362cc44-1932-4ad4-9140-b629ebc48627",
   "metadata": {},
   "outputs": [],
   "source": [
    "loader = WebBaseLoader(\"https://medium.com/@corymaklin/transformers-explained-610b2f749f43\")\n",
    "docs = loader.load()"
   ]
  },
  {
   "cell_type": "code",
   "execution_count": 6,
   "id": "34279228-54f7-4ad7-ade8-12fc0f5e6792",
   "metadata": {},
   "outputs": [
    {
     "data": {
      "text/plain": [
       "['The article explains the significance of transformers in natural language processing, highlighting how they outperform LSTMs and RNNs by processing sentences as a whole rather than sequentially',\n",
       " ' It delves into the architecture, input embeddings, positional encoding, attention mechanisms, and the functioning of the encoder and decoder in transformer models',\n",
       " ' The article also provides a practical example of building and training a transformer model for sentiment analysis using pre-trained BERT models in TensorFlow',\n",
       " '']"
      ]
     },
     "execution_count": 6,
     "metadata": {},
     "output_type": "execute_result"
    }
   ],
   "source": [
    "chain = load_summarize_chain(llm, chain_type=\"stuff\")\n",
    "chain.run(docs).split('.')"
   ]
  },
  {
   "cell_type": "code",
   "execution_count": 7,
   "id": "66651711-3bfd-4348-b869-d6a9955a7c8f",
   "metadata": {},
   "outputs": [],
   "source": [
    "### Text Tagging and Classification\n",
    "### Named Entity Recognition (NER)\n",
    "### Text Embeddings\n",
    "### Few-Shot Learning\n",
    "### POS Tagging, Segmentation and others"
   ]
  }
 ],
 "metadata": {
  "kernelspec": {
   "display_name": "Python 3 (ipykernel)",
   "language": "python",
   "name": "python3"
  },
  "language_info": {
   "codemirror_mode": {
    "name": "ipython",
    "version": 3
   },
   "file_extension": ".py",
   "mimetype": "text/x-python",
   "name": "python",
   "nbconvert_exporter": "python",
   "pygments_lexer": "ipython3",
   "version": "3.11.10"
  }
 },
 "nbformat": 4,
 "nbformat_minor": 5
}
