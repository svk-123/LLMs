{
 "cells": [
  {
   "cell_type": "code",
   "execution_count": 1,
   "id": "1672cb82-0db1-4a46-9a75-1f9f7195df1e",
   "metadata": {},
   "outputs": [],
   "source": [
    "#Ref: Langchain in your pocket, Mehul Gupta\n",
    "import sys\n",
    "import os\n",
    "sys.path.append('/home/vino/api_keys')\n",
    "from api_key import OPENAI_API_KEY, OWM_API_KEY\n",
    "os.environ['OPENAI_API_KEY'] = OPENAI_API_KEY\n",
    "\n",
    "import warnings\n",
    "warnings.filterwarnings('ignore')"
   ]
  },
  {
   "cell_type": "markdown",
   "id": "2f352382-eadc-4060-8a42-3a58bb99ce26",
   "metadata": {},
   "source": [
    "#### Example:1"
   ]
  },
  {
   "cell_type": "code",
   "execution_count": 2,
   "id": "e6c4aeb9-781e-4c1d-8882-6e693fac4385",
   "metadata": {},
   "outputs": [],
   "source": [
    "from langchain.agents import ZeroShotAgent, Tool, AgentExecutor\n",
    "from langchain.memory import ConversationBufferMemory\n",
    "from langchain import OpenAI, LLMChain\n",
    "from langchain.tools import WikipediaQueryRun\n",
    "from langchain.utilities import WikipediaAPIWrapper\n",
    "from langchain.tools import YouTubeSearchTool\n",
    "import os"
   ]
  },
  {
   "cell_type": "code",
   "execution_count": 3,
   "id": "cfabec24-e09f-491f-9c70-85cf0f90be97",
   "metadata": {},
   "outputs": [],
   "source": [
    "youtube =  YouTubeSearchTool()\n",
    "wiki  = WikipediaQueryRun(api_wrapper=WikipediaAPIWrapper())"
   ]
  },
  {
   "cell_type": "code",
   "execution_count": 4,
   "id": "50a7ab88-c70a-4c76-8dfa-24af2aa71ad8",
   "metadata": {},
   "outputs": [],
   "source": [
    "tools = [\n",
    "    \n",
    "    Tool(\n",
    "        name=\"youtube\",\n",
    "        func=youtube.run,\n",
    "        description=\"Helps in getting youtube videos\",\n",
    "\n",
    "    ),\n",
    "\n",
    "    Tool(\n",
    "        name=\"wiki\",\n",
    "        func=wiki.run,\n",
    "        description=\"Useful to search about a popular entity\",\n",
    "    )\n",
    "]"
   ]
  },
  {
   "cell_type": "code",
   "execution_count": 5,
   "id": "b3801c6e-dadf-443e-9efc-8ed3bdc96c31",
   "metadata": {},
   "outputs": [],
   "source": [
    "prefix = \"Answer the question asked. You have access to the following tools:\"\n",
    "suffix = \"Begin!\\\n",
    "{chat_history}\\\n",
    "Question: {input}\\\n",
    "{agent_scratchpad}\""
   ]
  },
  {
   "cell_type": "code",
   "execution_count": 6,
   "id": "4b109184-6043-473c-8308-579456fa0871",
   "metadata": {},
   "outputs": [],
   "source": [
    "prompt = ZeroShotAgent.create_prompt(\n",
    "    tools,\n",
    "    prefix=prefix,\n",
    "    suffix=suffix,\n",
    "    input_variables=[\"input\",\"chat_history\",\"agent_scratchpad\"], )\n",
    "\n",
    "memory = ConversationBufferMemory(memory_key=\"chat_history\")"
   ]
  },
  {
   "cell_type": "code",
   "execution_count": 7,
   "id": "1cab6408-5079-4dc0-ae1e-f534ab524f96",
   "metadata": {},
   "outputs": [],
   "source": [
    "llm_chain=LLMChain(llm=OpenAI(model_name=\"gpt-3.5-turbo-instruct\",temperature=0),prompt=prompt)\n",
    "agent=ZeroShotAgent(llm_chain=llm_chain, tools=tools, verbose=True)"
   ]
  },
  {
   "cell_type": "code",
   "execution_count": 8,
   "id": "91a14bd5-7df6-4327-84f7-be362627c9c0",
   "metadata": {},
   "outputs": [
    {
     "name": "stdout",
     "output_type": "stream",
     "text": [
      "\n",
      "\n",
      "\u001b[1m> Entering new AgentExecutor chain...\u001b[0m\n",
      "\u001b[32;1m\u001b[1;3m\n",
      "Thought: I should use the wiki tool to search for information about Goddess Saraswathi.\n",
      "Action: wiki\n",
      "Action Input: Goddess Saraswathi\u001b[0m\n",
      "Observation: \u001b[33;1m\u001b[1;3mPage: Saraswati\n",
      "Summary: Saraswati (Sanskrit: सरस्वती, IAST: Sarasvatī), also spelled as Sarasvati, is one of the principal goddesses in Hinduism, revered as the goddess of knowledge, education, learning, arts, speech, poetry, music, purification, language and culture. Together with the goddesses Lakshmi and Parvati, she forms the trinity, known as the Tridevi. Sarasvati is a pan-Indian deity, venerated not only in Hinduism but also in Jainism and Buddhism.\n",
      "She is one of the prominent goddesses in the Vedic tradition who retains her significance in later Hinduism. In the Vedas, her characteristics and attributes are closely connected with the Sarasvati River, making her one of the earliest examples of a river goddess in Indian tradition. As a deity associated with a river, Sarasvati is revered for her dual abilities to purify and to nurture fertility. In later Vedic literature, particularly the Brahmanas, Sarasvati is increasingly identified with the Vedic goddess of speech, Vac, and eventually, the two merge into the singular goddess known in later tradition. Over time, her connection to the river diminishes, while her association with speech, poetry, music, and culture becomes more prominent. In classical and medieval Hinduism, Sarasvati is primarily recognized as the goddess of learning, arts and poetic inspiration, and as the inventor of the Sanskrit language. She is linked to the creator god Brahma, either as his creative power (shakti) or consort. In this role, she represents the creative force of sound, giving reality a unique and distinctly human quality. She becomes linked with the dimension of reality characterized by clarity and intellectual order. Within the goddess oriented Shaktism tradition, Sarasvati is a key figure and venerated as the creative aspect of the Supreme Goddess. She is also significant in certain Vaishnava traditions, where she serves as one of Vishnu's consorts and assists him in his divine functions.\n",
      "She is portrayed as a serene woman with a radiant white complexion, dressed in white attire, representing the quality of sattva (goodness). She has four arms, each holding a symbolic object: a book, a rosary, a water pot, and a musical instrument known as the veena. Beside her is her mount, either a hamsa (white goose or swan) or a peacock. Hindu temples dedicated to Sarasvati can be found worldwide, with one of the earliest known shrines being Sharada Peeth (6th–12th centuries CE) in Kashmir. Sarasvati continues to be widely worshipped across India, particularly on her designated festival day, Vasant Panchami (the fifth day of spring, and also known as Sarasvati Puja and Sarasvati Jayanti in many regions of India), when students honor her as the patron goddess of knowledge and education. Traditionally, the day is marked by helping young children learn how to write the letters of the alphabet. Sarasvati is also one of the goddesses who is worshipped independently, without association with any male deity.\n",
      "In Buddhism, she is venerated in many forms, including the East Asian Benzaiten (辯才天, \"Eloquence Talent Deity\"). In Jainism, Sarasvati is revered as the deity responsible for the dissemination of the Tirthankaras' teachings and sermons.\n",
      "\n",
      "Page: Prathyangira Devi Temple, Ayyavadi\n",
      "Summary: Prathyangira Devi Temple is a Hindu temple located at Ayyavadi in the Thanjavur district of Tamil Nadu, India. The temple is dedicated to the powerful goddess Pratyangira, the incarnation of Goddess adishakti and the consort of Lord sharabha.narsimhi is feminine power of narsimha.maa pratyangira and narsimhi looks same but different.\n",
      "In this temple, there are idols of Goddess Lakshmi and Goddess Saraswathi placed nearby the idol of Goddess Pratyangira. Goddess Lakshmi is standing in her Pratyangira form and also in her normal form.\n",
      "\n",
      "Page: Koothanur Maha Saraswathi Temple\n",
      "Summary: Koothanur Maha Saraswathi Temple is a Hindu temple located in the town of Koothanur in the Tiruvarur district of Tamil Nadu, India. It is d\u001b[0m\n",
      "Thought:\u001b[32;1m\u001b[1;3m I now know the final answer.\n",
      "Final Answer: Goddess Saraswathi is a prominent deity in Hinduism, revered as the goddess of knowledge, education, learning, arts, speech, poetry, music, purification, language, and culture. She is often associated with the Saraswati River and is also known as the goddess of speech and creativity. She is worshipped in various forms and has temples dedicated to her all over India.\u001b[0m\n",
      "\n",
      "\u001b[1m> Finished chain.\u001b[0m\n"
     ]
    },
    {
     "data": {
      "text/plain": [
       "'Goddess Saraswathi is a prominent deity in Hinduism, revered as the goddess of knowledge, education, learning, arts, speech, poetry, music, purification, language, and culture. She is often associated with the Saraswati River and is also known as the goddess of speech and creativity. She is worshipped in various forms and has temples dedicated to her all over India.'"
      ]
     },
     "execution_count": 8,
     "metadata": {},
     "output_type": "execute_result"
    }
   ],
   "source": [
    "agent_chain = AgentExecutor.from_agent_and_tools(\n",
    "    agent=agent, tools=tools, verbose=True, memory=memory )\n",
    "\n",
    "agent_chain.run(input=\"Tell me something about Goddess Saraswathi\")"
   ]
  },
  {
   "cell_type": "code",
   "execution_count": 9,
   "id": "e5c1eab8-2e03-4858-b3a0-d1a6b8941b04",
   "metadata": {},
   "outputs": [
    {
     "name": "stdout",
     "output_type": "stream",
     "text": [
      "['AINAppOps', 'AINOwnerOps', 'AINRuleOps', 'AINTransfer', 'AINValueOps', 'AIPluginTool', 'APIOperation', 'ArxivQueryRun', 'AzureCogsFormRecognizerTool', 'AzureCogsImageAnalysisTool', 'AzureCogsSpeech2TextTool', 'AzureCogsText2SpeechTool', 'AzureCogsTextAnalyticsHealthTool', 'BaseGraphQLTool', 'BaseRequestsTool', 'BaseSQLDatabaseTool', 'BaseSparkSQLTool', 'BaseTool', 'BearlyInterpreterTool', 'BingSearchResults', 'BingSearchRun', 'BraveSearch', 'ClickTool', 'CopyFileTool', 'CurrentWebPageTool', 'DeleteFileTool', 'DuckDuckGoSearchResults', 'DuckDuckGoSearchRun', 'E2BDataAnalysisTool', 'EdenAiExplicitImageTool', 'EdenAiObjectDetectionTool', 'EdenAiParsingIDTool', 'EdenAiParsingInvoiceTool', 'EdenAiSpeechToTextTool', 'EdenAiTextModerationTool', 'EdenAiTextToSpeechTool', 'EdenaiTool', 'ElevenLabsText2SpeechTool', 'ExtractHyperlinksTool', 'ExtractTextTool', 'FileSearchTool', 'GetElementsTool', 'GmailCreateDraft', 'GmailGetMessage', 'GmailGetThread', 'GmailSearch', 'GmailSendMessage', 'GoogleCloudTextToSpeechTool', 'GooglePlacesTool', 'GoogleSearchResults', 'GoogleSearchRun', 'GoogleSerperResults', 'GoogleSerperRun', 'SearchAPIResults', 'SearchAPIRun', 'HumanInputRun', 'IFTTTWebhook', 'InfoPowerBITool', 'InfoSQLDatabaseTool', 'InfoSparkSQLTool', 'JiraAction', 'JsonGetValueTool', 'JsonListKeysTool', 'ListDirectoryTool', 'ListPowerBITool', 'ListSQLDatabaseTool', 'ListSparkSQLTool', 'MerriamWebsterQueryRun', 'MetaphorSearchResults', 'MoveFileTool', 'NasaAction', 'NavigateBackTool', 'NavigateTool', 'O365CreateDraftMessage', 'O365SearchEmails', 'O365SearchEvents', 'O365SendEvent', 'O365SendMessage', 'OpenAPISpec', 'OpenWeatherMapQueryRun', 'PubmedQueryRun', 'RedditSearchRun', 'QueryCheckerTool', 'QueryPowerBITool', 'QuerySQLCheckerTool', 'QuerySQLDataBaseTool', 'QuerySparkSQLTool', 'ReadFileTool', 'RequestsDeleteTool', 'RequestsGetTool', 'RequestsPatchTool', 'RequestsPostTool', 'RequestsPutTool', 'SteamWebAPIQueryRun', 'SceneXplainTool', 'SearxSearchResults', 'SearxSearchRun', 'ShellTool', 'SlackGetChannel', 'SlackGetMessage', 'SlackScheduleMessage', 'SlackSendMessage', 'SleepTool', 'StdInInquireTool', 'StackExchangeTool', 'SteamshipImageGenerationTool', 'StructuredTool', 'Tool', 'VectorStoreQATool', 'VectorStoreQAWithSourcesTool', 'WikipediaQueryRun', 'WolframAlphaQueryRun', 'WriteFileTool', 'YahooFinanceNewsTool', 'YouTubeSearchTool', 'ZapierNLAListActions', 'ZapierNLARunAction', 'authenticate', 'format_tool_to_openai_function', 'tool']\n"
     ]
    }
   ],
   "source": [
    "#available tools\n",
    "import langchain.tools as tools\n",
    "print(tools.__all__)"
   ]
  },
  {
   "cell_type": "code",
   "execution_count": 10,
   "id": "bf894a31-1758-4d34-af95-13f2f687b02c",
   "metadata": {},
   "outputs": [
    {
     "name": "stdout",
     "output_type": "stream",
     "text": [
      "['AINetworkToolkit', 'AmadeusToolkit', 'AzureCognitiveServicesToolkit', 'FileManagementToolkit', 'GmailToolkit', 'JiraToolkit', 'JsonToolkit', 'MultionToolkit', 'NasaToolkit', 'NLAToolkit', 'O365Toolkit', 'OpenAPIToolkit', 'PlayWrightBrowserToolkit', 'PowerBIToolkit', 'SlackToolkit', 'SteamToolkit', 'SQLDatabaseToolkit', 'SparkSQLToolkit', 'VectorStoreInfo', 'VectorStoreRouterToolkit', 'VectorStoreToolkit', 'ZapierToolkit', 'create_json_agent', 'create_openapi_agent', 'create_pbi_agent', 'create_pbi_chat_agent', 'create_spark_sql_agent', 'create_sql_agent', 'create_vectorstore_agent', 'create_vectorstore_router_agent', 'create_conversational_retrieval_agent', 'create_retriever_tool']\n"
     ]
    }
   ],
   "source": [
    "#availabe toolkits\n",
    "import langchain.agents.agent_toolkits\n",
    "print(langchain.agents.agent_toolkits.__all__)"
   ]
  },
  {
   "cell_type": "code",
   "execution_count": 11,
   "id": "14fad378-1e28-4a12-bccd-a6a895cffd6b",
   "metadata": {},
   "outputs": [],
   "source": [
    "#type of agents in langchain"
   ]
  },
  {
   "cell_type": "markdown",
   "id": "740c62ad-74eb-44a5-893b-35adaf1ff1ba",
   "metadata": {},
   "source": [
    "#### Example:2"
   ]
  },
  {
   "cell_type": "code",
   "execution_count": 12,
   "id": "41e10bf1-722f-431a-875a-4fa625434c0d",
   "metadata": {},
   "outputs": [],
   "source": [
    "### !pip install pyowm langchain-experimental==0.0.46 langchain==0.0.349\n",
    "from pyowm.owm import OWM\n",
    "from pyowm.utils.config import get_default_config\n",
    "from typing import Type\n",
    "from pydantic import BaseModel, Field\n",
    "from langchain.tools import BaseTool\n",
    "from langchain.agents import AgentType\n",
    "from langchain.chat_models import ChatOpenAI\n",
    "from langchain.agents import initialize_agent\n",
    "from langchain.agents.tools import Tool\n",
    "from langchain_experimental.plan_and_execute import PlanAndExecute, load_agent_executor, load_chat_planner"
   ]
  },
  {
   "cell_type": "code",
   "execution_count": 21,
   "id": "7e9bda51-948a-477c-855c-08770ed93361",
   "metadata": {},
   "outputs": [],
   "source": [
    "def get_weather(city):\n",
    "\n",
    "    config_dict = get_default_config()\n",
    "    config_dict['language'] = 'en' # your language here, eg. French \n",
    "    owm = OWM(OWM_API_KEY, config_dict)\n",
    "    mgr = owm.weather_manager()\n",
    "    observation = mgr.weather_at_place('Hyderabad, India')\n",
    "    temperature=str(observation.weather.temperature(\"celsius\")[\"temp\"])+'°C'\n",
    "    humidity = str(observation.weather.humidity)+'%'\n",
    "    wind = str(observation.weather.wind())+' m/s'\n",
    "    status = observation.weather.detailed_status\n",
    "\n",
    "    return{'temp':temperature,'humid':humidity,'wind':wind,'status':status}"
   ]
  },
  {
   "cell_type": "code",
   "execution_count": 14,
   "id": "e51d180d-7282-462d-afa0-b70aeab1436c",
   "metadata": {},
   "outputs": [],
   "source": [
    "class GetWeatherInput(BaseModel):\n",
    "\n",
    "    \"\"\"Inputs for get_weather\"\"\"\n",
    "    city:str=Field(description=\"City name with country separated by comma\")\n",
    "\n",
    "class GetWeatherTool(BaseTool):\n",
    "\n",
    "    name = \"get_weather_details_of_a_city\"\n",
    "    \n",
    "    description = \"\"\"\n",
    "        Useful to get weather details of a city.\n",
    "        Mandatory input format is 'city, country'.\n",
    "        \"\"\"\n",
    "    args_schema: Type[BaseModel] = GetWeatherInput\n",
    "\n",
    "    def _run(self, city: str): \n",
    "        weather = get_weather(city)\n",
    "        return weather\n",
    "\n",
    "    def _arun(self, city: str): \n",
    "        raise NotImplementedError(\"this tool doesn't support async\")\n",
    "    "
   ]
  },
  {
   "cell_type": "code",
   "execution_count": 15,
   "id": "c52c18d6-6f12-4a49-a978-8b61bf837df6",
   "metadata": {},
   "outputs": [],
   "source": [
    "llm = ChatOpenAI()\n",
    "tools = [GetWeatherTool()]"
   ]
  },
  {
   "cell_type": "code",
   "execution_count": 16,
   "id": "fc9c8394-f89a-47e8-bf24-e465e4f19763",
   "metadata": {},
   "outputs": [],
   "source": [
    "model = ChatOpenAI()\n",
    "planner = load_chat_planner(model)\n",
    "executor = load_agent_executor(model, tools, verbose=True)\n",
    "agent=PlanAndExecute(planner=planner, executor=executor, verbose=True)"
   ]
  },
  {
   "cell_type": "code",
   "execution_count": 28,
   "id": "e9d404d2-a238-4a4e-b962-7d0cc26ec6c5",
   "metadata": {},
   "outputs": [],
   "source": [
    "# own_api_key not working for me...\n",
    "#agent.run('Should I visit Manali, India this December based on the weather conditions?')"
   ]
  },
  {
   "cell_type": "code",
   "execution_count": 33,
   "id": "d0fd6509-9e37-42d9-8fc4-3eeccc6b1a59",
   "metadata": {},
   "outputs": [],
   "source": [
    "### tool decorator\n",
    "from langchain.tools import BaseTool, StructuredTool, tool \n",
    "\n",
    "@tool\n",
    "def abc(query: str)->str: \n",
    "    \"\"\"Tool description\"\"\"\n",
    "    return\n",
    "\n",
    "tools=[abc]"
   ]
  },
  {
   "cell_type": "code",
   "execution_count": null,
   "id": "6b00e24a-7b0a-4a51-a29d-ca67498ca985",
   "metadata": {},
   "outputs": [],
   "source": []
  }
 ],
 "metadata": {
  "kernelspec": {
   "display_name": "Python 3 (ipykernel)",
   "language": "python",
   "name": "python3"
  },
  "language_info": {
   "codemirror_mode": {
    "name": "ipython",
    "version": 3
   },
   "file_extension": ".py",
   "mimetype": "text/x-python",
   "name": "python",
   "nbconvert_exporter": "python",
   "pygments_lexer": "ipython3",
   "version": "3.11.10"
  }
 },
 "nbformat": 4,
 "nbformat_minor": 5
}
