{
 "cells": [
  {
   "cell_type": "code",
   "execution_count": 1,
   "id": "f5b3cea6-9453-4d37-91e4-31685c9f76ff",
   "metadata": {},
   "outputs": [],
   "source": [
    "import torch\n",
    "from transformers import pipeline\n",
    "import accelerate"
   ]
  },
  {
   "cell_type": "code",
   "execution_count": 9,
   "id": "0068b7c8-0697-4f1b-9e28-b32dad911e56",
   "metadata": {},
   "outputs": [
    {
     "name": "stderr",
     "output_type": "stream",
     "text": [
      "Setting `pad_token_id` to `eos_token_id`:None for open-end generation.\n"
     ]
    },
    {
     "name": "stdout",
     "output_type": "stream",
     "text": [
      "\n",
      "who are you sir?\n",
      "i am a student who is interested in programming. i have studied in high school for 3 years. i am currently\n"
     ]
    }
   ],
   "source": [
    "#using transformer pipeline from huggingface\n",
    "prompt=\"\"\"\n",
    "who are you sir?\n",
    "\"\"\"\n",
    "\n",
    "model_id = \"meta-llama/Llama-3.2-1B\"\n",
    "pipe = pipeline(\n",
    "    \"text-generation\", \n",
    "    model=model_id, \n",
    "    max_new_tokens=24,\n",
    "    torch_dtype=torch.bfloat16, \n",
    "    device_map=\"auto\"\n",
    ")\n",
    "\n",
    "output=pipe(prompt)\n",
    "print(output[0]['generated_text'])"
   ]
  },
  {
   "cell_type": "code",
   "execution_count": 3,
   "id": "e719ddea-e08d-4b02-ae5e-1c2ba0ce85db",
   "metadata": {},
   "outputs": [
    {
     "name": "stderr",
     "output_type": "stream",
     "text": [
      "Setting `pad_token_id` to `eos_token_id`:None for open-end generation.\n"
     ]
    },
    {
     "name": "stdout",
     "output_type": "stream",
     "text": [
      "I'm a friendly and efficient personal assistant. I'm here to help you with any questions, tasks, or requests you may have. I'm available 24/7 to assist with a wide range of tasks, from scheduling appointments to sending emails and\n"
     ]
    }
   ],
   "source": [
    "prompt=\"\"\"\n",
    "who are you sir?\n",
    "\"\"\"\n",
    "\n",
    "model_id = \"meta-llama/Llama-3.2-1B-Instruct\"\n",
    "pipe = pipeline(\n",
    "    \"text-generation\",\n",
    "    model=model_id,\n",
    "    torch_dtype=torch.bfloat16,\n",
    "    device_map=\"auto\",\n",
    ")\n",
    "messages = [\n",
    "    {\"role\": \"system\", \"content\": \"You are a well behaved personal assistant!\"},\n",
    "    {\"role\": \"user\", \"content\": prompt},\n",
    "]\n",
    "output = pipe(\n",
    "    messages,\n",
    "    max_new_tokens=50,\n",
    ")\n",
    "print(output[0][\"generated_text\"][-1]['content'])\n"
   ]
  },
  {
   "cell_type": "code",
   "execution_count": null,
   "id": "6f5bbece-02e0-4c59-8b2a-c5dff86bf1c3",
   "metadata": {},
   "outputs": [],
   "source": []
  }
 ],
 "metadata": {
  "kernelspec": {
   "display_name": "Python 3 (ipykernel)",
   "language": "python",
   "name": "python3"
  },
  "language_info": {
   "codemirror_mode": {
    "name": "ipython",
    "version": 3
   },
   "file_extension": ".py",
   "mimetype": "text/x-python",
   "name": "python",
   "nbconvert_exporter": "python",
   "pygments_lexer": "ipython3",
   "version": "3.11.5"
  }
 },
 "nbformat": 4,
 "nbformat_minor": 5
}
